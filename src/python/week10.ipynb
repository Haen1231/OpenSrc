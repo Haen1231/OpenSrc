{
 "cells": [
  {
   "cell_type": "code",
   "execution_count": 10,
   "metadata": {},
   "outputs": [
    {
     "name": "stdout",
     "output_type": "stream",
     "text": [
      "실습 1\n",
      "죽는 날까지 하늘을 우러러\n",
      "    한 점 부끄럼이 없기를,\n",
      "    잎새에 이는 바람에도\n",
      "    너는 괴로워했다.\n",
      "    별을 노래하는 마음으로\n",
      "    모든 죽어가는 것을 사람해야지\n",
      "    그리고 너한테 주어진 길을\n",
      "    걸어가야겠다.\n",
      "    오늘 밤에도 별이 바람에 스치운다.\n",
      "--------------------------------------\n",
      "실습 2\n",
      "Numbers=? \n",
      "1\n",
      "2\n",
      "2\n",
      "2\n",
      "Max= 2\n",
      "--------------------------------------\n",
      "실습 3\n",
      "\"abc def\"is encoded into \"efg!bcd\"\n",
      "\"efg!bcd\"is decoded into \"abc def\"\n"
     ]
    }
   ],
   "source": [
    "if __name__ == '__main__':\n",
    "    print(\"실습 1\")\n",
    "    str=\"\"\"   죽는 날까지 하늘을 우러러\n",
    "    한 점 부끄럼이 없기를,\n",
    "    잎새에 이는 바람에도\n",
    "    나는 괴로워했다.\n",
    "    별을 노래하는 마음으로\n",
    "    모든 죽어가는 것을 사람해야지\n",
    "    그리고 나한테 주어진 길을\n",
    "    걸어가야겠다.\n",
    "    오늘 밤에도 별이 바람에 스치운다.    \"\"\"\n",
    "    str=str.strip()\n",
    "    str=str.replace(\"나\",\"너\")\n",
    "    print(str)\n",
    "    \n",
    "    print(\"--------------------------------------\")\n",
    "    print(\"실습 2\")\n",
    "    str=input(\"Numbers=?\")\n",
    "    strlist=str.split()\n",
    "    \n",
    "    max=int(strlist[0])\n",
    "    \n",
    "    \n",
    "    print(\"Numbers=? \")\n",
    "    print(max)\n",
    "    for str1 in strlist[1:]:\n",
    "        num=int(str1)\n",
    "        print(num)\n",
    "        if(num>max):\n",
    "            max = num\n",
    "            \n",
    "    print(\"Max=\", max)\n",
    "    \n",
    "    print(\"--------------------------------------\")\n",
    "    print(\"실습 3\")\n",
    "    def conv_asc(str, num):\n",
    "        new_str=\"\"\n",
    "        for i in str:\n",
    "            code=ord(i)\n",
    "            new_str += chr(code+num)\n",
    "        return new_str\n",
    "    \n",
    "    def enc(str, key):\n",
    "        list = str.split()\n",
    "        list = list[::-1]\n",
    "        new_str=\" \".join(list)\n",
    "        return conv_asc(new_str,key)\n",
    "    \n",
    "    def dec(str, key):\n",
    "        str=conv_asc(str,key*-1)\n",
    "        list = str.split()\n",
    "        list = list[::-1]\n",
    "        new_str=\" \".join(list)\n",
    "        return new_str\n",
    "    \n",
    "    str = \"abc def\"\n",
    "    enc_str= enc(str,1)\n",
    "    print(\"\\\"\"+str+\"\\\"is encoded into \\\"\"+enc_str+\"\\\"\")\n",
    "    \n",
    "    dec_str= dec(enc_str,1)\n",
    "    print(\"\\\"\"+enc_str+\"\\\"is decoded into \\\"\"+dec_str+\"\\\"\")\n",
    "    "
   ]
  },
  {
   "cell_type": "code",
   "execution_count": 14,
   "metadata": {},
   "outputs": [
    {
     "name": "stdout",
     "output_type": "stream",
     "text": [
      "result :  26.73\n"
     ]
    }
   ],
   "source": [
    "x = float(input(\"enter x : \"));\n",
    "y = 3*x**2+5*x+3\n",
    "print(\"result : \",y);"
   ]
  },
  {
   "cell_type": "code",
   "execution_count": null,
   "metadata": {},
   "outputs": [],
   "source": [
    "#함수 list 입력받기\n",
    "def list_Add1(list):\n",
    "    return sum(list);\n"
   ]
  },
  {
   "cell_type": "code",
   "execution_count": 15,
   "metadata": {},
   "outputs": [
    {
     "name": "stdout",
     "output_type": "stream",
     "text": [
      "12\n",
      "(1, 2, 3)\n"
     ]
    }
   ],
   "source": [
    "#가변형 인자\n",
    "\n",
    "#튜플 형태로 받기\n",
    "def scaled_add(c, *args):\n",
    "    return c*sum(args);\n",
    "def showme(*args):\n",
    "    print(args)\n",
    "    \n",
    "print(scaled_add(2,1,2,3))\n",
    "showme(1,2,3,)\n"
   ]
  },
  {
   "cell_type": "code",
   "execution_count": 17,
   "metadata": {},
   "outputs": [
    {
     "name": "stdout",
     "output_type": "stream",
     "text": [
      "12\n",
      "{'scale': 2, 'offset': 0}\n"
     ]
    }
   ],
   "source": [
    "\n",
    "#딕셔너리 형태로 받기\n",
    "def super_add(*args, **kargs):\n",
    "    c=kargs.get('scale')\n",
    "    o=kargs.get('offset')\n",
    "    return o+c*sum(args)\n",
    "\n",
    "def showmemore(**kwargs):\n",
    "    print(kwargs)\n",
    "    \n",
    "print(super_add(1,2,3,scale=2,offset=0))\n",
    "showmemore(scale=2,offset=0)\n"
   ]
  },
  {
   "cell_type": "code",
   "execution_count": 18,
   "metadata": {},
   "outputs": [
    {
     "name": "stdout",
     "output_type": "stream",
     "text": [
      "haen's phone number is 01012341234\n"
     ]
    }
   ],
   "source": [
    "# dictionary 전화번호 만들기\n",
    "def search_phone(book, name):\n",
    "    num = book[name]\n",
    "    if num:\n",
    "        return num\n",
    "    else :\n",
    "        return \"none\"\n",
    "    \n",
    "n = int(input(\"사람수 ? \"));\n",
    "book = dict()\n",
    "\n",
    "for i in range(n):\n",
    "    k = input(\"name=\")\n",
    "    v = input(\"number=\")\n",
    "    book[k] = v;\n",
    "    \n",
    "k = input(\"검색할 이름 =?\")\n",
    "v = search_phone(book, k);\n",
    "print(\"{0:s}'s phone number is {1:s}\".format(k,v))"
   ]
  },
  {
   "cell_type": "code",
   "execution_count": null,
   "metadata": {},
   "outputs": [
    {
     "name": "stdout",
     "output_type": "stream",
     "text": [
      "반지름 1.0인 원의 넓이는 3.14이고 둘레는 6.3입니다.\n"
     ]
    }
   ],
   "source": [
    "r = float(input(\"반지름 :\"));\n",
    "area = 3.14*r**2;\n",
    "round = 2*r*3.14;\n",
    "print(\"반지름 {0:.1f}인 원의 넓이는 {1:.2f}이고 둘레는 {2:.1f}입니다.\".format(r,area,round));"
   ]
  },
  {
   "cell_type": "code",
   "execution_count": null,
   "metadata": {},
   "outputs": [
    {
     "name": "stdout",
     "output_type": "stream",
     "text": [
      "10000000001\n",
      "01000000010\n",
      "00100000100\n",
      "00010001000\n",
      "00001010000\n",
      "00000100000\n",
      "00001010000\n",
      "00010001000\n",
      "00100000100\n",
      "01000000010\n",
      "10000000001\n"
     ]
    }
   ],
   "source": [
    "#라인수 입력받기\n",
    "num = int(input(\"line : \"));\n",
    "\n",
    "for i in range(0,num):\n",
    "    str = \"\"\n",
    "    for j in range(0,num) :\n",
    "        if(i==j) or (((num-1)-i) == j):\n",
    "            str += \"1\";\n",
    "        else:\n",
    "            str += \"0\";\n",
    "    print(str);\n",
    "            "
   ]
  }
 ],
 "metadata": {
  "kernelspec": {
   "display_name": "jupyterconda",
   "language": "python",
   "name": "conda"
  },
  "language_info": {
   "codemirror_mode": {
    "name": "ipython",
    "version": 3
   },
   "file_extension": ".py",
   "mimetype": "text/x-python",
   "name": "python",
   "nbconvert_exporter": "python",
   "pygments_lexer": "ipython3",
   "version": "3.9.7"
  },
  "orig_nbformat": 4
 },
 "nbformat": 4,
 "nbformat_minor": 2
}
