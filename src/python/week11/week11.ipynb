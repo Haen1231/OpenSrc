{
 "cells": [
  {
   "cell_type": "code",
   "execution_count": 4,
   "metadata": {},
   "outputs": [
    {
     "name": "stdout",
     "output_type": "stream",
     "text": [
      "[실습 1]\n",
      "-----------------------------\n",
      "파이썬 2\n",
      "파일 2\n",
      "읽기 2\n",
      "예제입니다. 2\n",
      "다양한 1\n",
      "메소드를 1\n",
      "공부해 1\n",
      "보세요. 1\n",
      "실력이 1\n",
      "팍팍 1\n",
      "늘 1\n",
      "거예요~ 1\n",
      "단어 1\n",
      "수를 1\n",
      "카운트하는 1\n",
      "실습 1\n",
      "-----------------------------\n",
      "[실습2]\n",
      "(1,2)\n",
      "(3,4)\n",
      "(2,3)\n",
      "(4,5)\n"
     ]
    }
   ],
   "source": [
    "print(\"[실습 1]\")\n",
    "print(\"-----------------------------\")   \n",
    "f =  open('README.txt', 'r')\n",
    "#incoding 추가\n",
    "#f =  open('README.txt', 'r',encoding='utf-8')\n",
    "\n",
    "dic = {}\n",
    "\n",
    "#파일 전체읽기 : data = f.read()\n",
    "#한 줄씩 읽기 / f.readline() 한 줄만 읽음\n",
    "#f.readlines() : 읽기 모드로 열린 파일의 모든 라인을 한꺼번에 읽어서 리스트로 리턴\n",
    "#쓰기 모드 : 'W'로 읽고 f.write(data) - 기존 내용 사라짐\n",
    "#기존내용에 추가 = 'a'모드\n",
    "for line in f:  \n",
    "    \n",
    "    line = line.strip()\n",
    "    words = line.split()\n",
    "    \n",
    "    for w in words:\n",
    "        \n",
    "        if w in dic:\n",
    "            dic[w] += 1\n",
    "        else :\n",
    "            dic[w] =1\n",
    "            \n",
    "for w in dic:\n",
    "    print(w, dic[w])\n",
    "    \n",
    "print(\"-----------------------------\")    \n",
    "print(\"[실습2]\")\n",
    "\n",
    "class Point:\n",
    "    def __init__(self, x, y):\n",
    "        self.x = x\n",
    "        self.y = y\n",
    "    def move(self, dx, dy):\n",
    "        self.x += dx\n",
    "        self.y += dy\n",
    "    def show(self):\n",
    "        print(\"({0:d},{1:d})\".format(self.x,self.y))\n",
    "        \n",
    "class Box(Point):\n",
    "    def __init__(self, p1, p2):\n",
    "        self.p1 = p1\n",
    "        self.p2 = p2\n",
    "    def move(self, dx, dy):\n",
    "        self.p1.move(dx,dy)\n",
    "        self.p2.move(dx,dy)\n",
    "    def show(self):\n",
    "        self.p1.show()\n",
    "        self.p2.show()\n",
    "        \n",
    "p1 = Point(1,2)\n",
    "p1.show()\n",
    "p2 = Point(3,4)\n",
    "p2.show()\n",
    "\n",
    "b = Box(p1,p2)\n",
    "b.move(1,1)\n",
    "b.show()"
   ]
  },
  {
   "cell_type": "code",
   "execution_count": 3,
   "metadata": {},
   "outputs": [
    {
     "name": "stdout",
     "output_type": "stream",
     "text": [
      "-F /USERS/IHAEIN/LIBRARY/JUPYTER/RUNTIME/KERNEL-3DDE381B-16C9-4118-81E2-CBA969FC8472.JSON\n"
     ]
    }
   ],
   "source": [
    "#명령행 인자(프로그램명 제외)를 입력받아 모두 대문자로 변환하는 프로그램\n",
    "import sys\n",
    "str_list=[]\n",
    "for arg in sys.argv[1:]:\n",
    "    str_list.append(arg.upper())\n",
    "print(\" \".join(str_list))"
   ]
  },
  {
   "cell_type": "code",
   "execution_count": 4,
   "metadata": {},
   "outputs": [
    {
     "name": "stdout",
     "output_type": "stream",
     "text": [
      "1.000000 + 2.000000 + 3.000000 + 4.000000 = 10.000000\n",
      "1.000000-2.000000=-1.000000\n"
     ]
    }
   ],
   "source": [
    "#클래스\n",
    "#자료와 그 자료에 대한 함수를 묶어놓은 단위\n",
    "#상속\n",
    "#class 클래스명(상속 클래스명):\n",
    "class ParentCalc:\n",
    "    def add(self, a, b):\n",
    "        result =  a+b\n",
    "        print(\"{0:f}+{1:f}={2:f}\".format(a,b,result))\n",
    "    def sub(self, a, b):\n",
    "        result = a-b\n",
    "        print(\"{0:f}-{1:f}={2:f}\".format(a,b,result))\n",
    "        \n",
    "class ChildCalc(ParentCalc):\n",
    "    def add(self, *a):  #함수 오버로딩\n",
    "        s = \"{0:f}\".format(a[0])\n",
    "        for i in a[1:] :\n",
    "            s = s+\" + \"+\"{0:f}\".format(i)\n",
    "            result = sum(a)\n",
    "        print(\"{0:s} = {1:f}\".format(s,result))\n",
    "        \n",
    "num = ChildCalc()\n",
    "num.add(1,2,3,4)\n",
    "num.sub(1,2)"
   ]
  },
  {
   "cell_type": "code",
   "execution_count": 5,
   "metadata": {},
   "outputs": [
    {
     "name": "stdout",
     "output_type": "stream",
     "text": [
      "division by zero\n",
      "The End!\n"
     ]
    }
   ],
   "source": [
    "#예외처리\n",
    "num1 = int(input(\"number1=\"))\n",
    "num2 = int(input(\"number2=\"))\n",
    "try:\n",
    "    num3 = num1/num2\n",
    "    print(\"{0:f}/{1:f} = {2:f}\".format(num1,num2,num3))\n",
    "except ZeroDivisionError as e:\n",
    "    print(e)\n",
    "finally:\n",
    "    print(\"The End!\")"
   ]
  },
  {
   "cell_type": "code",
   "execution_count": null,
   "metadata": {},
   "outputs": [],
   "source": [
    "#CSV \n",
    "#,로 분리된 값"
   ]
  },
  {
   "cell_type": "code",
   "execution_count": 2,
   "metadata": {},
   "outputs": [
    {
     "name": "stdout",
     "output_type": "stream",
     "text": [
      "0 m\n",
      "1 y\n",
      "2 s\n",
      "3 t\n",
      "4 r\n",
      "5 i\n",
      "6 n\n",
      "7 g\n"
     ]
    }
   ],
   "source": [
    "#index 자동부여\n",
    "for i,ch in enumerate(\"mystring\"):\n",
    "    print(i,ch);\n"
   ]
  },
  {
   "cell_type": "code",
   "execution_count": 1,
   "metadata": {},
   "outputs": [
    {
     "name": "stdout",
     "output_type": "stream",
     "text": [
      "★ 구구단을 출력합니다.\n",
      "\n",
      "------- [2단] -------\n",
      "2 X 1 = 2\n",
      "2 X 2 = 4\n",
      "2 X 3 = 6\n",
      "2 X 4 = 8\n",
      "2 X 5 = 10\n",
      "2 X 6 = 12\n",
      "2 X 7 = 14\n",
      "2 X 8 = 16\n",
      "2 X 9 = 18\n",
      "------- [3단] -------\n",
      "3 X 1 = 3\n",
      "3 X 2 = 6\n",
      "3 X 3 = 9\n",
      "3 X 4 = 12\n",
      "3 X 5 = 15\n",
      "3 X 6 = 18\n",
      "3 X 7 = 21\n",
      "3 X 8 = 24\n",
      "3 X 9 = 27\n",
      "------- [4단] -------\n",
      "4 X 1 = 4\n",
      "4 X 2 = 8\n",
      "4 X 3 = 12\n",
      "4 X 4 = 16\n",
      "4 X 5 = 20\n",
      "4 X 6 = 24\n",
      "4 X 7 = 28\n",
      "4 X 8 = 32\n",
      "4 X 9 = 36\n",
      "------- [5단] -------\n",
      "5 X 1 = 5\n",
      "5 X 2 = 10\n",
      "5 X 3 = 15\n",
      "5 X 4 = 20\n",
      "5 X 5 = 25\n",
      "5 X 6 = 30\n",
      "5 X 7 = 35\n",
      "5 X 8 = 40\n",
      "5 X 9 = 45\n",
      "------- [6단] -------\n",
      "6 X 1 = 6\n",
      "6 X 2 = 12\n",
      "6 X 3 = 18\n",
      "6 X 4 = 24\n",
      "6 X 5 = 30\n",
      "6 X 6 = 36\n",
      "6 X 7 = 42\n",
      "6 X 8 = 48\n",
      "6 X 9 = 54\n",
      "------- [7단] -------\n",
      "7 X 1 = 7\n",
      "7 X 2 = 14\n",
      "7 X 3 = 21\n",
      "7 X 4 = 28\n",
      "7 X 5 = 35\n",
      "7 X 6 = 42\n",
      "7 X 7 = 49\n",
      "7 X 8 = 56\n",
      "7 X 9 = 63\n",
      "------- [8단] -------\n",
      "8 X 1 = 8\n",
      "8 X 2 = 16\n",
      "8 X 3 = 24\n",
      "8 X 4 = 32\n",
      "8 X 5 = 40\n",
      "8 X 6 = 48\n",
      "8 X 7 = 56\n",
      "8 X 8 = 64\n",
      "8 X 9 = 72\n",
      "------- [9단] -------\n",
      "9 X 1 = 9\n",
      "9 X 2 = 18\n",
      "9 X 3 = 27\n",
      "9 X 4 = 36\n",
      "9 X 5 = 45\n",
      "9 X 6 = 54\n",
      "9 X 7 = 63\n",
      "9 X 8 = 72\n",
      "9 X 9 = 81\n",
      "---------------------\n"
     ]
    }
   ],
   "source": [
    "print(\"★ 구구단을 출력합니다.\\n\")\n",
    "for x in range(2, 10):\n",
    "    print(\"------- [\" + str(x) + \"단] -------\")\n",
    "    for y in range(1, 10):\n",
    "        print(x, \"X\", y, \"=\", x*y)\n",
    "print(\"---------------------\")"
   ]
  }
 ],
 "metadata": {
  "kernelspec": {
   "display_name": "jupyterconda",
   "language": "python",
   "name": "conda"
  },
  "language_info": {
   "codemirror_mode": {
    "name": "ipython",
    "version": 3
   },
   "file_extension": ".py",
   "mimetype": "text/x-python",
   "name": "python",
   "nbconvert_exporter": "python",
   "pygments_lexer": "ipython3",
   "version": "3.9.7"
  }
 },
 "nbformat": 4,
 "nbformat_minor": 2
}
