{
 "cells": [
  {
   "cell_type": "code",
   "execution_count": 10,
   "metadata": {},
   "outputs": [
    {
     "name": "stdout",
     "output_type": "stream",
     "text": [
      "가장 많이 접종 된 날 : 2021-06-28, 가장 적게 접종 된 날 : 2021-01-28\n"
     ]
    }
   ],
   "source": [
    "import csv\n",
    "\n",
    "f = open(\"./country_vaccinations.csv\", \"r\", encoding = \"UTF-8\")\n",
    "data = csv.reader(f)\n",
    "\n",
    "next(data) #헤더 건너뛰기\n",
    "next(data)\n",
    "initData = next(data)\n",
    "highest = float(initData[7])\n",
    "lowest = float(initData[7])\n",
    "highestDate = initData[0]\n",
    "lowestDate = initData[0]\n",
    "\n",
    "for row in data: \n",
    "    if(row[7] == ''):\n",
    "        continue#한 줄씩 읽어오기\n",
    "    if highest < float(row[7]):\n",
    "        highest = float(row[7])\n",
    "        highestDate = row[2]\n",
    "    if lowest > float(row[7]):\n",
    "        lowest = float(row[7])\n",
    "        lowestDate = row[2]\n",
    "\n",
    "print(\"가장 많이 접종 된 날 : {0:s}, 가장 적게 접종 된 날 : {1:s}\".format(highestDate,lowestDate))\n",
    "f.close()\n"
   ]
  },
  {
   "cell_type": "code",
   "execution_count": 13,
   "metadata": {},
   "outputs": [
    {
     "name": "stdout",
     "output_type": "stream",
     "text": [
      "{'Afghanistan': 5740631.0, 'Albania': 2748980.0, 'Algeria': 13697360.0, 'Andorra': 151499.0, 'Angola': 17435547.0, 'Anguilla': 23128.0, 'Antigua and Barbuda': 127997.0, 'Argentina': 96396690.0, 'Armenia': 2079254.0, 'Aruba': 147104.0, 'Australia': 56071891.0, 'Austria': 18131949.0, 'Azerbaijan': 13406873.0, 'Bahamas': 334063.0, 'Bahrain': 3399681.0, 'Bangladesh': 232845439.0, 'Barbados': 314227.0, 'Belarus': 11509794.0, 'Belgium': 25221195.0, 'Belize': 467027.0, 'Benin': 3265021.0, 'Bermuda': 127654.0, 'Bhutan': 2027553.0, 'Bolivia': 12926843.0, 'Bonaire Sint Eustatius and Saba': 28420.0, 'Bosnia and Herzegovina': 1913728.0, 'Botswana': 2120207.0, 'Brazil': 411378534.0, 'British Virgin Islands': 25262.0, 'Brunei': 1067347.0, 'Bulgaria': 4347686.0, 'Burkina Faso': 2364862.0, 'Burundi': 12150.0, 'Cambodia': 36716148.0, 'Cameroon': 1488796.0, 'Canada': 82010216.0, 'Cape Verde': 727920.0, 'Cayman Islands': 141749.0, 'Central African Republic': 1005564.0, 'Chad': 414391.0, 'Chile': 50166643.0, 'China': 3250342496.0, 'Colombia': 80325853.0, 'Comoros': 628825.0, 'Congo': 806924.0, 'Cook Islands': 26789.0, 'Costa Rica': 10092933.0, \"Cote d'Ivoire\": 10317345.0, 'Croatia': 5217712.0, 'Cuba': 33802957.0, 'Curacao': 229657.0, 'Cyprus': 1767377.0, 'Czechia': 17491237.0, 'Democratic Republic of Congo': 951397.0, 'Denmark': 13209023.0, 'Djibouti': 155429.0, 'Dominica': 62881.0, 'Dominican Republic': 15475985.0, 'Ecuador': 33080034.0, 'Egypt': 75906019.0, 'El Salvador': 10357605.0, 'England': 116298428.0, 'Equatorial Guinea': 467283.0, 'Estonia': 1971332.0, 'Eswatini': 518082.0, 'Ethiopia': 28971509.0, 'Faeroe Islands': 100064.0, 'Falkland Islands': 4933.0, 'Fiji': 1308133.0, 'Finland': 11682015.0, 'France': 141586302.0, 'French Polynesia': 365451.0, 'Gabon': 548794.0, 'Gambia': 364195.0, 'Georgia': 2853746.0, 'Germany': 171903993.0, 'Ghana': 12605420.0, 'Gibraltar': 118060.0, 'Greece': 20470918.0, 'Greenland': 77373.0, 'Grenada': 87153.0, 'Guatemala': 15603719.0, 'Guernsey': 145792.0, 'Guinea': 5862557.0, 'Guinea-Bissau': 558071.0, 'Guyana': 888738.0, 'Haiti': 248463.0, 'Honduras': 11950310.0, 'Hong Kong': 14782968.0, 'Hungary': 16376999.0, 'Iceland': 800598.0, 'India': 1829085487.0, 'Indonesia': 373213575.0, 'Iran': 146357015.0, 'Iraq': 17478087.0, 'Ireland': 10729599.0, 'Isle of Man': 186299.0, 'Israel': 18119560.0, 'Italy': 135755490.0, 'Jamaica': 1398881.0, 'Japan': 251739703.0, 'Jersey': 181880.0, 'Jordan': 9706638.0, 'Kazakhstan': 20891256.0, 'Kenya': 17240992.0, 'Kiribati': 133016.0, 'Kosovo': 1821660.0, 'Kuwait': 7788956.0, 'Kyrgyzstan': 2888903.0, 'Laos': 9982259.0, 'Latvia': 2873254.0, 'Lebanon': 5270519.0, 'Lesotho': 902652.0, 'Liberia': 1093880.0, 'Libya': 3418436.0, 'Liechtenstein': 70420.0, 'Lithuania': 4469241.0, 'Luxembourg': 1279632.0, 'Macao': 1227187.0, 'Madagascar': 1297552.0, 'Malawi': 1989350.0, 'Malaysia': 68692510.0, 'Maldives': 913251.0, 'Mali': 1849432.0, 'Malta': 1246893.0, 'Mauritania': 2648902.0, 'Mauritius': 2476828.0, 'Mexico': 190175636.0, 'Moldova': 2118182.0, 'Monaco': 65072.0, 'Mongolia': 5481513.0, 'Montenegro': 668465.0, 'Montserrat': 4320.0, 'Morocco': 54300576.0, 'Mozambique': 26239037.0, 'Myanmar': 48927388.0, 'Namibia': 831696.0, 'Nauru': 17063.0, 'Nepal': 39804602.0, 'Netherlands': 34007500.0, 'New Caledonia': 366896.0, 'New Zealand': 10930674.0, 'Nicaragua': 9616160.0, 'Niger': 2680539.0, 'Nigeria': 30801024.0, 'Niue': 4324.0, 'North Macedonia': 1835527.0, 'Northern Cyprus': 602390.0, 'Northern Ireland': 3686755.0, 'Norway': 11267309.0, 'Oman': 6976429.0, 'Pakistan': 217745032.0, 'Palestine': 3620769.0, 'Panama': 7855366.0, 'Papua New Guinea': 571996.0, 'Paraguay': 8406382.0, 'Peru': 65303746.0, 'Philippines': 144426925.0, 'Pitcairn': 43.0, 'Poland': 53904067.0, 'Portugal': 22920938.0, 'Qatar': 6598209.0, 'Romania': 16736695.0, 'Russia': 163251520.0, 'Rwanda': 18478476.0, 'Saint Helena': 7718.0, 'Saint Kitts and Nevis': 61352.0, 'Saint Lucia': 117974.0, 'Saint Vincent and the Grenadines': 61144.0, 'Samoa': 296358.0, 'San Marino': 68643.0, 'Sao Tome and Principe': 201127.0, 'Saudi Arabia': 62105262.0, 'Scotland': 11979542.0, 'Senegal': 2500714.0, 'Serbia': 8490135.0, 'Seychelles': 200773.0, 'Sierra Leone': 2062290.0, 'Singapore': 13798972.0, 'Sint Maarten (Dutch part)': 37950.0, 'Slovakia': 7036417.0, 'Slovenia': 2974046.0, 'Solomon Islands': 351879.0, 'Somalia': 2240573.0, 'South Africa': 33331178.0, 'South Korea': 120483456.0, 'South Sudan': 570445.0, 'Spain': 93768856.0, 'Sri Lanka': 39089813.0, 'Sudan': 6073043.0, 'Suriname': 505414.0, 'Sweden': 21010705.0, 'Switzerland': 15629760.0, 'Syria': 3365307.0, 'Taiwan': 49343587.0, 'Tajikistan': 10235637.0, 'Tanzania': 4967642.0, 'Thailand': 128433095.0, 'Timor': 1293998.0, 'Togo': 2756117.0, 'Tokelau': 1966.0, 'Tonga': 145202.0, 'Trinidad and Tobago': 1542653.0, 'Tunisia': 13034732.0, 'Turkey': 147484328.0, 'Turkmenistan': 7653267.0, 'Turks and Caicos Islands': 69572.0, 'Tuvalu': 9639.0, 'Uganda': 17114131.0, 'Ukraine': 31526868.0, 'United Arab Emirates': 23704599.0, 'United Kingdom': 138825154.0, 'United States': 560111606.0, 'Uruguay': 8025066.0, 'Uzbekistan': 43932105.0, 'Vanuatu': 195446.0, 'Venezuela': 37861146.0, 'Vietnam': 201816053.0, 'Wales': 6859138.0, 'Wallis and Futuna': 12538.0, 'Yemen': 794952.0, 'Zambia': 3367782.0, 'Zimbabwe': 8754303.0}\n"
     ]
    }
   ],
   "source": [
    "import csv\n",
    "\n",
    "f = open(\"./country_vaccinations.csv\", \"r\", encoding = \"UTF-8\")\n",
    "data = csv.reader(f)\n",
    "dic ={}\n",
    "next(data) #헤더 건너뛰기\n",
    "next(data)\n",
    "initData = next(data)\n",
    "numvac = float(initData[7])\n",
    "row[12]\n",
    "for row in data: \n",
    "    \n",
    "    word = row[12].split(',')\n",
    "    for w in word :\n",
    "        d = row[0]\n",
    "    if d in dic:\n",
    "        dic[d] += float(row[7])\n",
    "    else :\n",
    "        dic[d] =float(row[7])\n",
    "    \n",
    "\n",
    "print(dic)"
   ]
  }
 ],
 "metadata": {
  "kernelspec": {
   "display_name": "jupyterconda",
   "language": "python",
   "name": "conda"
  },
  "language_info": {
   "codemirror_mode": {
    "name": "ipython",
    "version": 3
   },
   "file_extension": ".py",
   "mimetype": "text/x-python",
   "name": "python",
   "nbconvert_exporter": "python",
   "pygments_lexer": "ipython3",
   "version": "3.9.7"
  },
  "orig_nbformat": 4
 },
 "nbformat": 4,
 "nbformat_minor": 2
}
