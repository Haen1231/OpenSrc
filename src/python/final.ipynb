{
 "cells": [
  {
   "cell_type": "code",
   "execution_count": 10,
   "metadata": {},
   "outputs": [
    {
     "name": "stdout",
     "output_type": "stream",
     "text": [
      "가장 많이 접종 된 날 : 2021-06-28, 가장 적게 접종 된 날 : 2021-01-28\n"
     ]
    }
   ],
   "source": [
    "import csv\n",
    "\n",
    "f = open(\"./country_vaccinations.csv\", \"r\", encoding = \"UTF-8\")\n",
    "data = csv.reader(f)\n",
    "\n",
    "next(data) #헤더 건너뛰기\n",
    "next(data)\n",
    "initData = next(data)\n",
    "highest = float(initData[7])\n",
    "lowest = float(initData[7])\n",
    "highestDate = initData[0]\n",
    "lowestDate = initData[0]\n",
    "\n",
    "for row in data: \n",
    "    if(row[7] == ''):\n",
    "        continue#한 줄씩 읽어오기\n",
    "    if highest < float(row[7]):\n",
    "        highest = float(row[7])\n",
    "        highestDate = row[2]\n",
    "    if lowest > float(row[7]):\n",
    "        lowest = float(row[7])\n",
    "        lowestDate = row[2]\n",
    "\n",
    "print(\"가장 많이 접종 된 날 : {0:s}, 가장 적게 접종 된 날 : {1:s}\".format(highestDate,lowestDate))\n",
    "f.close()\n"
   ]
  },
  {
   "cell_type": "code",
   "execution_count": 17,
   "metadata": {},
   "outputs": [
    {
     "ename": "TypeError",
     "evalue": "'builtin_function_or_method' object is not subscriptable",
     "output_type": "error",
     "traceback": [
      "\u001b[0;31m---------------------------------------------------------------------------\u001b[0m",
      "\u001b[0;31mTypeError\u001b[0m                                 Traceback (most recent call last)",
      "\u001b[0;32m/var/folders/lm/rg55t74964z7h61rj9vz4ql00000gn/T/ipykernel_84222/2232861447.py\u001b[0m in \u001b[0;36m<module>\u001b[0;34m\u001b[0m\n\u001b[1;32m     11\u001b[0m \u001b[0;34m\u001b[0m\u001b[0m\n\u001b[1;32m     12\u001b[0m \u001b[0;32mfor\u001b[0m \u001b[0mrow\u001b[0m \u001b[0;32min\u001b[0m \u001b[0mdata\u001b[0m\u001b[0;34m:\u001b[0m\u001b[0;34m\u001b[0m\u001b[0;34m\u001b[0m\u001b[0m\n\u001b[0;32m---> 13\u001b[0;31m     \u001b[0mword\u001b[0m \u001b[0;34m=\u001b[0m \u001b[0mrow\u001b[0m\u001b[0;34m[\u001b[0m\u001b[0;36m12\u001b[0m\u001b[0;34m]\u001b[0m\u001b[0;34m.\u001b[0m\u001b[0msplit\u001b[0m\u001b[0;34m[\u001b[0m\u001b[0;34m','\u001b[0m\u001b[0;34m]\u001b[0m\u001b[0;34m\u001b[0m\u001b[0;34m\u001b[0m\u001b[0m\n\u001b[0m\u001b[1;32m     14\u001b[0m \u001b[0;34m\u001b[0m\u001b[0m\n\u001b[1;32m     15\u001b[0m     \u001b[0;32mfor\u001b[0m \u001b[0mw\u001b[0m \u001b[0;32min\u001b[0m \u001b[0mwords\u001b[0m\u001b[0;34m:\u001b[0m\u001b[0;34m\u001b[0m\u001b[0;34m\u001b[0m\u001b[0m\n",
      "\u001b[0;31mTypeError\u001b[0m: 'builtin_function_or_method' object is not subscriptable"
     ]
    }
   ],
   "source": [
    "import csv\n",
    "\n",
    "f = open(\"./country_vaccinations.csv\", \"r\", encoding = \"UTF-8\")\n",
    "data = csv.reader(f)\n",
    "\n",
    "next(data) #헤더 건너뛰기\n",
    "next(data)\n",
    "initData = next(data)\n",
    "highest = float(initData[7])\n",
    "\n",
    "\n",
    "for row in data: \n",
    "    word = row[12].split(',')\n",
    "    \n",
    "    for w in words:\n",
    "        \n",
    "        if w in dic:\n",
    "            dic[w] += 1\n",
    "        else :\n",
    "            dic[w] =1\n",
    "print(dic)"
   ]
  }
 ],
 "metadata": {
  "kernelspec": {
   "display_name": "jupyterconda",
   "language": "python",
   "name": "conda"
  },
  "language_info": {
   "codemirror_mode": {
    "name": "ipython",
    "version": 3
   },
   "file_extension": ".py",
   "mimetype": "text/x-python",
   "name": "python",
   "nbconvert_exporter": "python",
   "pygments_lexer": "ipython3",
   "version": "3.9.7"
  },
  "orig_nbformat": 4
 },
 "nbformat": 4,
 "nbformat_minor": 2
}
