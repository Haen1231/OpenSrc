{
 "cells": [
  {
   "cell_type": "code",
   "execution_count": 1,
   "metadata": {},
   "outputs": [
    {
     "name": "stdout",
     "output_type": "stream",
     "text": [
      "7 : 36\n",
      "['김철수', '이영희', '임꺽정', '홍길동']\n",
      "김철수 2.8\n"
     ]
    }
   ],
   "source": [
    "# -*- coding: utf-8 -*-\n",
    "\n",
    "if __name__ == '__main__':\n",
    "    h=456/60\n",
    "    m=456%60\n",
    "    print(str(int(h))+\" : \"+str(m))\n",
    "\n",
    "    scores = {\n",
    "        \"홍길동\":3.4,\n",
    "        \"임꺽정\":4.0,\n",
    "        \"김철수\":2.8,\n",
    "        \"이영희\":3.9\n",
    "    }\n",
    "    data=scores.keys()\n",
    "    data_list=list(data)\n",
    "    data_list.sort()\n",
    "    print(data_list)\n",
    "\n",
    "    key=data_list[0]\n",
    "    value=scores[key]\n",
    "    print(key,value)\n"
   ]
  }
 ],
 "metadata": {
  "kernelspec": {
   "display_name": "jupyterconda",
   "language": "python",
   "name": "conda"
  },
  "language_info": {
   "codemirror_mode": {
    "name": "ipython",
    "version": 3
   },
   "file_extension": ".py",
   "mimetype": "text/x-python",
   "name": "python",
   "nbconvert_exporter": "python",
   "pygments_lexer": "ipython3",
   "version": "3.9.7"
  },
  "orig_nbformat": 4
 },
 "nbformat": 4,
 "nbformat_minor": 2
}
